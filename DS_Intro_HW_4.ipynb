{
 "cells": [
  {
   "cell_type": "markdown",
   "metadata": {},
   "source": [
    "## Eden Duktzayev 316365733"
   ]
  },
  {
   "cell_type": "code",
   "execution_count": 176,
   "metadata": {},
   "outputs": [],
   "source": [
    "import requests\n",
    "import json"
   ]
  },
  {
   "cell_type": "markdown",
   "metadata": {},
   "source": [
    "### Reading the file from my personal folder"
   ]
  },
  {
   "cell_type": "code",
   "execution_count": 177,
   "metadata": {},
   "outputs": [
    {
     "data": {
      "text/plain": [
       "['Istanbul', 'Amsterdam', 'Valletta', 'Basel', 'Doha']"
      ]
     },
     "execution_count": 177,
     "metadata": {},
     "output_type": "execute_result"
    }
   ],
   "source": [
    "f = open(\"dests.txt\")\n",
    "data=f.read().split('\\n')\n",
    "data"
   ]
  },
  {
   "cell_type": "code",
   "execution_count": 178,
   "metadata": {},
   "outputs": [],
   "source": [
    "myDict={}\n",
    "origins='Jerusalem,Israel'\n",
    "api_key='123456789'" #fakeAPI
   ]
  },
  {
   "cell_type": "markdown",
   "metadata": {},
   "source": [
    "### Saving the distance, travel time, longitude, latitude from the destinations to Jerusalem in the dictionary"
   ]
  },
  {
   "cell_type": "code",
   "execution_count": 179,
   "metadata": {},
   "outputs": [],
   "source": [
    "for i in data:\n",
    "    url='https://maps.googleapis.com/maps/api/distancematrix/json?destinations=%s&origins=%s&key=%s' % (i,origins,api_key)\n",
    "    urlgeo=\"https://maps.googleapis.com/maps/api/geocode/json?address=%s&key=%s\" % (i,api_key)\n",
    "    try:\n",
    "        response = requests.get(url)\n",
    "        details = requests.get(urlgeo)\n",
    "        if response.status_code!=200:\n",
    "            print('HTTP error',response.status_code)\n",
    "        else:\n",
    "            try:\n",
    "                response = requests.get(url).json()\n",
    "                details = requests.get(urlgeo).json()\n",
    "            except:\n",
    "                print('Response not in valid JSON format')\n",
    "        distance_km=response['rows'][0]['elements'][0]['distance']['text']\n",
    "        distance_time=response['rows'][0]['elements'][0]['duration']['value']\n",
    "        mins=(duration_time/60)%60\n",
    "        mins=int(mins)\n",
    "        hours=int((duration_time/60)/60)\n",
    "        time='{hr} hours and {min} minutes'.format(hr=hours,min=mins)\n",
    "        lat=details['results'][0]['geometry']['location']['lat']\n",
    "        lng=details['results'][0]['geometry']['location']['lng']\n",
    "        myDict[i]=(distance_km,time,lat,lng)\n",
    "    except:\n",
    "        print('Somthing went wrong with request.get')"
   ]
  },
  {
   "cell_type": "markdown",
   "metadata": {},
   "source": [
    "## Answer:"
   ]
  },
  {
   "cell_type": "markdown",
   "metadata": {},
   "source": [
    "### The dictionary with all the details by order (The values for each city is in tuple):"
   ]
  },
  {
   "cell_type": "code",
   "execution_count": 180,
   "metadata": {},
   "outputs": [
    {
     "data": {
      "text/plain": [
       "{'Istanbul': ('1,809 km', '21 hours and 51 minutes', 41.0082376, 28.9783589),\n",
       " 'Amsterdam': ('4,528 km', '21 hours and 51 minutes', 52.3675734, 4.9041389),\n",
       " 'Valletta': ('3,783 km', '21 hours and 51 minutes', 35.8989085, 14.5145528),\n",
       " 'Basel': ('4,091 km', '21 hours and 51 minutes', 47.5595986, 7.5885761),\n",
       " 'Doha': ('2,104 km',\n",
       "  '21 hours and 51 minutes',\n",
       "  25.2854473,\n",
       "  51.53103979999999)}"
      ]
     },
     "execution_count": 180,
     "metadata": {},
     "output_type": "execute_result"
    }
   ],
   "source": [
    "myDict"
   ]
  },
  {
   "cell_type": "markdown",
   "metadata": {},
   "source": [
    "### Print the information on the screen clearly for each destination, feel free to do so as you wish, as long as it is clear"
   ]
  },
  {
   "cell_type": "code",
   "execution_count": 181,
   "metadata": {},
   "outputs": [
    {
     "name": "stdout",
     "output_type": "stream",
     "text": [
      "{\n",
      "     \"Istanbul\": [\n",
      "          \"1,809 km\",\n",
      "          \"21 hours and 51 minutes\",\n",
      "          41.0082376,\n",
      "          28.9783589\n",
      "     ],\n",
      "     \"Amsterdam\": [\n",
      "          \"4,528 km\",\n",
      "          \"21 hours and 51 minutes\",\n",
      "          52.3675734,\n",
      "          4.9041389\n",
      "     ],\n",
      "     \"Valletta\": [\n",
      "          \"3,783 km\",\n",
      "          \"21 hours and 51 minutes\",\n",
      "          35.8989085,\n",
      "          14.5145528\n",
      "     ],\n",
      "     \"Basel\": [\n",
      "          \"4,091 km\",\n",
      "          \"21 hours and 51 minutes\",\n",
      "          47.5595986,\n",
      "          7.5885761\n",
      "     ],\n",
      "     \"Doha\": [\n",
      "          \"2,104 km\",\n",
      "          \"21 hours and 51 minutes\",\n",
      "          25.2854473,\n",
      "          51.53103979999999\n",
      "     ]\n",
      "}\n"
     ]
    }
   ],
   "source": [
    "print(json.dumps(myDict,indent=5))"
   ]
  },
  {
   "cell_type": "markdown",
   "metadata": {},
   "source": [
    "### Find the 3 cities furthest from Jerusalem:"
   ]
  },
  {
   "cell_type": "code",
   "execution_count": 182,
   "metadata": {},
   "outputs": [
    {
     "data": {
      "text/plain": [
       "['Amsterdam', 'Basel', 'Valletta']"
      ]
     },
     "execution_count": 182,
     "metadata": {},
     "output_type": "execute_result"
    }
   ],
   "source": [
    "sorted(myDict,key=myDict.get,reverse=True)[:3]"
   ]
  }
 ],
 "metadata": {
  "kernelspec": {
   "display_name": "Python 3",
   "language": "python",
   "name": "python3"
  },
  "language_info": {
   "codemirror_mode": {
    "name": "ipython",
    "version": 3
   },
   "file_extension": ".py",
   "mimetype": "text/x-python",
   "name": "python",
   "nbconvert_exporter": "python",
   "pygments_lexer": "ipython3",
   "version": "3.8.3"
  }
 },
 "nbformat": 4,
 "nbformat_minor": 4
}
